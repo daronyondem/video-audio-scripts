{
 "cells": [
  {
   "cell_type": "code",
   "execution_count": null,
   "metadata": {},
   "outputs": [],
   "source": [
    "! pip install requests \n",
    "! pip install pydub"
   ]
  },
  {
   "cell_type": "code",
   "execution_count": null,
   "metadata": {},
   "outputs": [],
   "source": [
    "from dotenv import load_dotenv\n",
    "\n",
    "# Load environment variables\n",
    "load_dotenv()\n",
    "\n",
    "ElevenLabs_XI_API_KEY = os.environ.get(\"ElevenLabs_XI_API_KEY\")"
   ]
  },
  {
   "cell_type": "markdown",
   "metadata": {},
   "source": [
    "### Getting Voice IDs from the API"
   ]
  },
  {
   "cell_type": "code",
   "execution_count": null,
   "metadata": {},
   "outputs": [],
   "source": [
    "import requests\n",
    "import json\n",
    "\n",
    "url = \"https://api.elevenlabs.io/v1/voices\"\n",
    "\n",
    "headers = {\n",
    "\"Accept\": \"application/json\",\n",
    "\"xi-api-key\": ElevenLabs_XI_API_KEY,\n",
    "\"Content-Type\": \"application/json\"\n",
    "}\n",
    "\n",
    "response = requests.get(url, headers=headers)\n",
    "\n",
    "data = response.json()\n",
    "\n",
    "for voice in data['voices']:\n",
    "    print(f\"{voice['name']}; {voice['voice_id']}\")\n"
   ]
  },
  {
   "cell_type": "markdown",
   "metadata": {},
   "source": [
    "Grace; oWAxZDx7w5VEj9dCyTzz"
   ]
  },
  {
   "cell_type": "markdown",
   "metadata": {},
   "source": [
    "### Getting Model List from the API"
   ]
  },
  {
   "cell_type": "code",
   "execution_count": null,
   "metadata": {},
   "outputs": [],
   "source": [
    "import requests\n",
    "import json\n",
    "\n",
    "url = \"https://api.elevenlabs.io/v1/models\"\n",
    "\n",
    "headers = {\n",
    "\"Accept\": \"application/json\",\n",
    "\"xi-api-key\": ElevenLabs_XI_API_KEY,\n",
    "\"Content-Type\": \"application/json\"\n",
    "}\n",
    "\n",
    "response = requests.get(url, headers=headers)\n",
    "\n",
    "data = response.json()\n",
    "\n",
    "print(data)"
   ]
  },
  {
   "cell_type": "markdown",
   "metadata": {},
   "source": [
    "### Splitting audio file into multiple 4 minute junks."
   ]
  },
  {
   "cell_type": "code",
   "execution_count": null,
   "metadata": {},
   "outputs": [],
   "source": [
    "from pydub import AudioSegment\n",
    "import os\n",
    "\n",
    "if not os.path.exists('segments'):\n",
    "    os.makedirs('segments')\n",
    "\n",
    "audio = AudioSegment.from_mp3(\"input.mp3\")\n",
    "\n",
    "audio_length_ms = len(audio)\n",
    "\n",
    "segment_length_ms = 240000\n",
    "\n",
    "for i, start_time in enumerate(range(0, audio_length_ms, segment_length_ms)):\n",
    "    end_time = start_time + segment_length_ms if start_time + segment_length_ms < audio_length_ms else audio_length_ms\n",
    "    segment = audio[start_time:end_time]\n",
    "    segment.export(f\"segments/segment_{i}.mp3\", format=\"mp3\")\n"
   ]
  },
  {
   "cell_type": "markdown",
   "metadata": {},
   "source": [
    "### Convert Speech"
   ]
  },
  {
   "cell_type": "code",
   "execution_count": null,
   "metadata": {},
   "outputs": [],
   "source": [
    "import requests\n",
    "import os\n",
    "\n",
    "voice_id = \"oWAxZDx7w5VEj9dCyTzz\"\n",
    "url = f\"https://api.elevenlabs.io/v1/speech-to-speech/{voice_id}\"\n",
    "headers = {\n",
    "    \"xi-api-key\": ElevenLabs_XI_API_KEY,\n",
    "}\n",
    "data = {\n",
    "    \"model_id\": \"eleven_multilingual_sts_v2\",\n",
    "    \"voice_settings\": \"{\\\"similarity_boost\\\": 0.5, \\\"stability\\\": 0.5}\",\n",
    "}\n",
    "\n",
    "# Iterate over each file in the segments folder\n",
    "for i, filename in enumerate(os.listdir('segments')):\n",
    "    if filename.endswith(\".mp3\"):\n",
    "        with open(f\"segments/{filename}\", \"rb\") as audio_file:\n",
    "            files = {\n",
    "                \"audio\": audio_file,\n",
    "            }\n",
    "            response = requests.post(url, headers=headers, data=data, files=files)\n",
    "\n",
    "            # Save the response content to a file\n",
    "            with open(f'segment_output_{i}.mp3', 'wb') as f:\n",
    "                f.write(response.content)\n"
   ]
  },
  {
   "cell_type": "markdown",
   "metadata": {},
   "source": [
    "### Joining Segments and Saving the final audio file."
   ]
  },
  {
   "cell_type": "code",
   "execution_count": null,
   "metadata": {},
   "outputs": [],
   "source": [
    "from pydub import AudioSegment\n",
    "import os\n",
    "\n",
    "segments = []\n",
    "\n",
    "# Iterate over each file in the converted-segments directory\n",
    "for i, filename in sorted(enumerate(os.listdir('converted-segments')), key=lambda x: x[1]):\n",
    "    if filename.startswith(\"segment_output_\") and filename.endswith(\".mp3\"):\n",
    "        # Load the audio file from the converted-segments directory and append it to the list\n",
    "        segment = AudioSegment.from_mp3(f\"converted-segments/{filename}\")\n",
    "        segments.append(segment)\n",
    "\n",
    "# Concatenate all segments\n",
    "final_audio = sum(segments)\n",
    "\n",
    "# Export final audio\n",
    "final_audio.export(\"final_output.mp3\", format=\"mp3\")\n"
   ]
  }
 ],
 "metadata": {
  "kernelspec": {
   "display_name": "openai-qna-env",
   "language": "python",
   "name": "python3"
  },
  "language_info": {
   "codemirror_mode": {
    "name": "ipython",
    "version": 3
   },
   "file_extension": ".py",
   "mimetype": "text/x-python",
   "name": "python",
   "nbconvert_exporter": "python",
   "pygments_lexer": "ipython3",
   "version": "3.11.8"
  },
  "orig_nbformat": 4,
  "vscode": {
   "interpreter": {
    "hash": "c4ee1bbf3137c7ea9420c4fd488a55642063e5739fe2a7286130d9ba47405b69"
   }
  }
 },
 "nbformat": 4,
 "nbformat_minor": 2
}
