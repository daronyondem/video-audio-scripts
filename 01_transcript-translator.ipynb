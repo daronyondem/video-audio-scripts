{
 "cells": [
  {
   "cell_type": "code",
   "execution_count": null,
   "metadata": {},
   "outputs": [],
   "source": [
    "! pip install openai --upgrade\n",
    "! pip install langchain --upgrade\n",
    "! pip install python-dotenv\n",
    "! pip install srt\n",
    "! pip install codecs\n",
    "! pip install tiktoken"
   ]
  },
  {
   "cell_type": "code",
   "execution_count": 7,
   "metadata": {},
   "outputs": [],
   "source": [
    "import os\n",
    "import openai\n",
    "import langchain as lc\n",
    "from langchain.document_loaders import SRTLoader\n",
    "from dotenv import load_dotenv\n",
    "import srt\n",
    "import codecs\n",
    "import tiktoken\n",
    "from IPython.display import clear_output\n",
    "\n",
    "# Load environment variables\n",
    "load_dotenv()\n",
    "\n",
    "openai_api_key = os.environ.get(\"OPENAI_API_KEY\")\n",
    "\n",
    "if not openai_api_key:\n",
    "    raise ValueError(\"OPENAI_API_KEY not found in environment variables.\")\n",
    "\n",
    "openai.api_key = openai_api_key\n",
    "\n",
    "GPT_MODEL_NAME = \"gpt-4-turbo-preview\""
   ]
  },
  {
   "cell_type": "code",
   "execution_count": 8,
   "metadata": {},
   "outputs": [],
   "source": [
    "from openai import OpenAI\n",
    "\n",
    "client = OpenAI(\n",
    "    api_key=os.environ.get(\"OPENAI_API_KEY\"),\n",
    ")\n",
    "\n",
    "def num_tokens_from_string(string: str) -> int:\n",
    "    \"\"\"Returns the number of tokens in a text string.\"\"\"\n",
    "    encoding = tiktoken.get_encoding(\"cl100k_base\")\n",
    "    num_tokens = len(encoding.encode(string))\n",
    "    return num_tokens\n",
    "\n",
    "def get_completion(prompt, model=GPT_MODEL_NAME):\n",
    "    response = client.chat.completions.create(\n",
    "        temperature=0, \n",
    "        model=GPT_MODEL_NAME, \n",
    "        messages=[\n",
    "            {\"role\": \"system\", \"content\": \"You are a helpful assistant with expertise in english language reading and writing. You are an expert copywriter.\"},\n",
    "            {\"role\": \"user\", \"content\": prompt}\n",
    "        ]\n",
    "    )\n",
    "    return response.choices[0].message.content\n",
    "\n",
    "def write_to_file(content: str, file_path: str):\n",
    "    \"\"\"Write content to a file.\"\"\"\n",
    "    with open(file_path, 'w', encoding='utf-8') as f:\n",
    "        f.write(content)\n",
    "\n",
    "def read_srt_file(file_path: str):\n",
    "    \"\"\"Read and parse an SRT file.\"\"\"\n",
    "    with codecs.open(file_path, 'r', encoding='utf-8-sig') as f:\n",
    "        return list(srt.parse(f.read()))"
   ]
  },
  {
   "cell_type": "markdown",
   "metadata": {},
   "source": [
    "### Transcript Translation"
   ]
  },
  {
   "cell_type": "code",
   "execution_count": 9,
   "metadata": {},
   "outputs": [],
   "source": [
    "from typing import List\n",
    "import srt\n",
    "\n",
    "def translate_with_context(subtitles: List[srt.Subtitle], index: int) -> str:\n",
    "    \"\"\"Translates a subtitle segment with extended context and explicit focus on the current segment.\"\"\"\n",
    "    # Extend the context window: Current + 3 previous + 3 next subtitles\n",
    "    context_before = ' '.join([sub.content for sub in subtitles[max(0, index-3):index]])\n",
    "    context_after = ' '.join([sub.content for sub in subtitles[index+1:min(len(subtitles), index+4)]])\n",
    "    current_segment = subtitles[index].content\n",
    "    \n",
    "    # Constructing the prompt for translation\n",
    "    prompt = f\"Translate the following segment into American English, considering the previous and next context for a natural and accurate translation. Only provide the translated segment that represents the segment to translate.\\n\\n\" \\\n",
    "             f\"Previous context: {context_before}\\n\" \\\n",
    "             f\"Segment to translate: {current_segment}\\n\" \\\n",
    "             f\"Next context: {context_after}\\n\" \\\n",
    "             f\"Translation:\"\n",
    "\n",
    "    # Get the translation\n",
    "    translated_text = get_completion(prompt)\n",
    "    \n",
    "    return translated_text\n",
    "\n",
    "def translate_srt_file(file_path: str, output_file_path: str):\n",
    "    \"\"\"Reads an SRT file, translates it to American English considering contextual information, and writes to a new file.\"\"\"\n",
    "    subtitles = read_srt_file(file_path)\n",
    "    translated_subtitles = []\n",
    "\n",
    "    for index, subtitle in enumerate(subtitles):\n",
    "        # Translate each subtitle with extended context\n",
    "        translated_text = translate_with_context(subtitles, index)\n",
    "        translated_subtitles.append(srt.Subtitle(index=subtitle.index, start=subtitle.start, end=subtitle.end, content=translated_text.strip()))\n",
    "\n",
    "    # Write to a new SRT file\n",
    "    with open(output_file_path, 'w', encoding='utf-8') as f:\n",
    "        f.write(srt.compose(translated_subtitles))\n",
    "\n",
    "# Example usage\n",
    "translate_srt_file('2024-03-22-Github-Copilot-Nedir.srt', '2024-03-22-Github-Copilot-Nedir-EN.srt')\n"
   ]
  }
 ],
 "metadata": {
  "kernelspec": {
   "display_name": "openai-qna-env",
   "language": "python",
   "name": "python3"
  },
  "language_info": {
   "codemirror_mode": {
    "name": "ipython",
    "version": 3
   },
   "file_extension": ".py",
   "mimetype": "text/x-python",
   "name": "python",
   "nbconvert_exporter": "python",
   "pygments_lexer": "ipython3",
   "version": "3.11.undefined"
  },
  "orig_nbformat": 4,
  "vscode": {
   "interpreter": {
    "hash": "c4ee1bbf3137c7ea9420c4fd488a55642063e5739fe2a7286130d9ba47405b69"
   }
  }
 },
 "nbformat": 4,
 "nbformat_minor": 2
}
